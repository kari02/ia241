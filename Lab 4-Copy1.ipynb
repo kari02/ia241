{
 "cells": [
  {
   "cell_type": "code",
   "execution_count": 1,
   "metadata": {},
   "outputs": [
    {
     "name": "stdout",
     "output_type": "stream",
     "text": [
      "Requirement already satisfied: psycopg2 in c:\\programdata\\anaconda3\\lib\\site-packages (2.8.3)\n"
     ]
    }
   ],
   "source": [
    "!pip install psycopg2"
   ]
  },
  {
   "cell_type": "code",
   "execution_count": 2,
   "metadata": {},
   "outputs": [],
   "source": [
    "import pandas\n",
    "import configparser\n",
    "import psycopg2"
   ]
  },
  {
   "cell_type": "code",
   "execution_count": 3,
   "metadata": {},
   "outputs": [],
   "source": [
    "config = configparser.ConfigParser()\n",
    "config.read('config.ini')\n",
    "\n",
    "host = config['myaws']['host']\n",
    "user = config['myaws']['user']\n",
    "pwsd = config['myaws']['pwsd']\n",
    "database = config['myaws']['database']\n"
   ]
  },
  {
   "cell_type": "code",
   "execution_count": 4,
   "metadata": {},
   "outputs": [],
   "source": [
    "conn = psycopg2.connect(\n",
    "host = host,\n",
    "user = user,\n",
    "password = pwsd,\n",
    "dbname = database\n",
    ")"
   ]
  },
  {
   "cell_type": "code",
   "execution_count": 5,
   "metadata": {},
   "outputs": [],
   "source": [
    "cur= conn.cursor()"
   ]
  },
  {
   "cell_type": "code",
   "execution_count": 6,
   "metadata": {},
   "outputs": [],
   "source": [
    "sql_statement = '''\n",
    "                select * from student_gp13 \n",
    "                '''"
   ]
  },
  {
   "cell_type": "code",
   "execution_count": 7,
   "metadata": {},
   "outputs": [],
   "source": [
    "cur.execute(sql_statement)"
   ]
  },
  {
   "cell_type": "code",
   "execution_count": 8,
   "metadata": {},
   "outputs": [
    {
     "data": {
      "text/plain": [
       "('williumsd@dukes.jmu.edu                                                                             ',\n",
       " \"D'Marcus Williums                                                                                   \",\n",
       " 'ia                  ')"
      ]
     },
     "execution_count": 8,
     "metadata": {},
     "output_type": "execute_result"
    }
   ],
   "source": [
    "cur.fetchone()"
   ]
  },
  {
   "cell_type": "markdown",
   "metadata": {},
   "source": [
    "# Q 1"
   ]
  },
  {
   "cell_type": "code",
   "execution_count": 9,
   "metadata": {},
   "outputs": [
    {
     "name": "stdout",
     "output_type": "stream",
     "text": [
      "('kingt@dukes.jmu.edu                                                                                 ', \"T'varisuness King                                                                                   \", 'ia                  ')\n",
      "('tacktheritrixj@dukes.jmu.edu                                                                        ', 'Jackmerius Tacktheritrix                                                                            ', 'ia                  ')\n",
      "('mccringleberryh@dukes.jmu.edu                                                                       ', 'Hingle McCringleberry                                                                               ', 'ia                  ')\n",
      "('moizoosi@dukes.jmu.edu                                                                              ', 'Ibrahim Moizoos                                                                                     ', 'ia                  ')\n",
      "('demo_email                                                                                          ', 'demo_name                                                                                           ', 'GS                  ')\n"
     ]
    }
   ],
   "source": [
    "for result in cur.fetchall():\n",
    "    print(result)"
   ]
  },
  {
   "cell_type": "code",
   "execution_count": 10,
   "metadata": {
    "scrolled": true
   },
   "outputs": [
    {
     "data": {
      "text/html": [
       "<div>\n",
       "<style scoped>\n",
       "    .dataframe tbody tr th:only-of-type {\n",
       "        vertical-align: middle;\n",
       "    }\n",
       "\n",
       "    .dataframe tbody tr th {\n",
       "        vertical-align: top;\n",
       "    }\n",
       "\n",
       "    .dataframe thead th {\n",
       "        text-align: right;\n",
       "    }\n",
       "</style>\n",
       "<table border=\"1\" class=\"dataframe\">\n",
       "  <thead>\n",
       "    <tr style=\"text-align: right;\">\n",
       "      <th></th>\n",
       "      <th>email</th>\n",
       "      <th>name</th>\n",
       "      <th>major</th>\n",
       "    </tr>\n",
       "  </thead>\n",
       "  <tbody>\n",
       "    <tr>\n",
       "      <th>0</th>\n",
       "      <td>williumsd@dukes.jmu.edu                       ...</td>\n",
       "      <td>D'Marcus Williums                             ...</td>\n",
       "      <td>ia</td>\n",
       "    </tr>\n",
       "    <tr>\n",
       "      <th>1</th>\n",
       "      <td>kingt@dukes.jmu.edu                           ...</td>\n",
       "      <td>T'varisuness King                             ...</td>\n",
       "      <td>ia</td>\n",
       "    </tr>\n",
       "    <tr>\n",
       "      <th>2</th>\n",
       "      <td>tacktheritrixj@dukes.jmu.edu                  ...</td>\n",
       "      <td>Jackmerius Tacktheritrix                      ...</td>\n",
       "      <td>ia</td>\n",
       "    </tr>\n",
       "    <tr>\n",
       "      <th>3</th>\n",
       "      <td>mccringleberryh@dukes.jmu.edu                 ...</td>\n",
       "      <td>Hingle McCringleberry                         ...</td>\n",
       "      <td>ia</td>\n",
       "    </tr>\n",
       "    <tr>\n",
       "      <th>4</th>\n",
       "      <td>moizoosi@dukes.jmu.edu                        ...</td>\n",
       "      <td>Ibrahim Moizoos                               ...</td>\n",
       "      <td>ia</td>\n",
       "    </tr>\n",
       "    <tr>\n",
       "      <th>5</th>\n",
       "      <td>demo_email                                    ...</td>\n",
       "      <td>demo_name                                     ...</td>\n",
       "      <td>GS</td>\n",
       "    </tr>\n",
       "  </tbody>\n",
       "</table>\n",
       "</div>"
      ],
      "text/plain": [
       "                                               email  \\\n",
       "0  williumsd@dukes.jmu.edu                       ...   \n",
       "1  kingt@dukes.jmu.edu                           ...   \n",
       "2  tacktheritrixj@dukes.jmu.edu                  ...   \n",
       "3  mccringleberryh@dukes.jmu.edu                 ...   \n",
       "4  moizoosi@dukes.jmu.edu                        ...   \n",
       "5  demo_email                                    ...   \n",
       "\n",
       "                                                name                 major  \n",
       "0  D'Marcus Williums                             ...  ia                    \n",
       "1  T'varisuness King                             ...  ia                    \n",
       "2  Jackmerius Tacktheritrix                      ...  ia                    \n",
       "3  Hingle McCringleberry                         ...  ia                    \n",
       "4  Ibrahim Moizoos                               ...  ia                    \n",
       "5  demo_name                                     ...  GS                    "
      ]
     },
     "execution_count": 10,
     "metadata": {},
     "output_type": "execute_result"
    }
   ],
   "source": [
    "df = pandas.read_sql_query(sql_statement,conn)\n",
    "df[:]"
   ]
  },
  {
   "cell_type": "markdown",
   "metadata": {},
   "source": [
    "# Q 2"
   ]
  },
  {
   "cell_type": "code",
   "execution_count": 11,
   "metadata": {},
   "outputs": [
    {
     "data": {
      "text/html": [
       "<div>\n",
       "<style scoped>\n",
       "    .dataframe tbody tr th:only-of-type {\n",
       "        vertical-align: middle;\n",
       "    }\n",
       "\n",
       "    .dataframe tbody tr th {\n",
       "        vertical-align: top;\n",
       "    }\n",
       "\n",
       "    .dataframe thead th {\n",
       "        text-align: right;\n",
       "    }\n",
       "</style>\n",
       "<table border=\"1\" class=\"dataframe\">\n",
       "  <thead>\n",
       "    <tr style=\"text-align: right;\">\n",
       "      <th></th>\n",
       "      <th>cname</th>\n",
       "      <th>count</th>\n",
       "    </tr>\n",
       "  </thead>\n",
       "  <tbody>\n",
       "    <tr>\n",
       "      <th>0</th>\n",
       "      <td>IA 210                                        ...</td>\n",
       "      <td>1</td>\n",
       "    </tr>\n",
       "  </tbody>\n",
       "</table>\n",
       "</div>"
      ],
      "text/plain": [
       "                                               cname  count\n",
       "0  IA 210                                        ...      1"
      ]
     },
     "execution_count": 11,
     "metadata": {},
     "output_type": "execute_result"
    }
   ],
   "source": [
    "sql_statement = '''\n",
    "                select\n",
    "                cname,\n",
    "                count(semail)\n",
    "  \n",
    "                from enroll_gp13\n",
    "                group by cname\n",
    "                order by count(semail) desc\n",
    "                limit 1\n",
    "                '''\n",
    "\n",
    "df = pandas.read_sql_query(sql_statement,conn)\n",
    "df[:10]"
   ]
  },
  {
   "cell_type": "markdown",
   "metadata": {},
   "source": [
    "each course has one student enrolled"
   ]
  },
  {
   "cell_type": "markdown",
   "metadata": {},
   "source": [
    "# Q 3"
   ]
  },
  {
   "cell_type": "code",
   "execution_count": 12,
   "metadata": {},
   "outputs": [
    {
     "data": {
      "text/html": [
       "<div>\n",
       "<style scoped>\n",
       "    .dataframe tbody tr th:only-of-type {\n",
       "        vertical-align: middle;\n",
       "    }\n",
       "\n",
       "    .dataframe tbody tr th {\n",
       "        vertical-align: top;\n",
       "    }\n",
       "\n",
       "    .dataframe thead th {\n",
       "        text-align: right;\n",
       "    }\n",
       "</style>\n",
       "<table border=\"1\" class=\"dataframe\">\n",
       "  <thead>\n",
       "    <tr style=\"text-align: right;\">\n",
       "      <th></th>\n",
       "      <th>email</th>\n",
       "      <th>name</th>\n",
       "      <th>office</th>\n",
       "      <th>name</th>\n",
       "      <th>room</th>\n",
       "      <th>temail</th>\n",
       "    </tr>\n",
       "  </thead>\n",
       "  <tbody>\n",
       "    <tr>\n",
       "      <th>0</th>\n",
       "      <td>madisonj@jmu.edu                              ...</td>\n",
       "      <td>james madison                                 ...</td>\n",
       "      <td>isat110</td>\n",
       "      <td>IA 261                                        ...</td>\n",
       "      <td>engeo2011</td>\n",
       "      <td>madisonj@jmu.edu                              ...</td>\n",
       "    </tr>\n",
       "    <tr>\n",
       "      <th>1</th>\n",
       "      <td>moore8ka@jmu.edu                              ...</td>\n",
       "      <td>kathleen moore                                ...</td>\n",
       "      <td>isat116</td>\n",
       "      <td>IA 240                                        ...</td>\n",
       "      <td>engeo2010</td>\n",
       "      <td>moore8ka@jmu.edu                              ...</td>\n",
       "    </tr>\n",
       "    <tr>\n",
       "      <th>2</th>\n",
       "      <td>taoqx@jmu.edu                                 ...</td>\n",
       "      <td>qingjiu tao                                   ...</td>\n",
       "      <td>engeo2107</td>\n",
       "      <td>IA 210                                        ...</td>\n",
       "      <td>engeo1210</td>\n",
       "      <td>taoqx@jmu.edu                                 ...</td>\n",
       "    </tr>\n",
       "    <tr>\n",
       "      <th>3</th>\n",
       "      <td>raabrw@jmu.edu                                ...</td>\n",
       "      <td>ron raaab                                     ...</td>\n",
       "      <td>isat156</td>\n",
       "      <td>IA 460                                        ...</td>\n",
       "      <td>isat326</td>\n",
       "      <td>raabrw@jmu.edu                                ...</td>\n",
       "    </tr>\n",
       "    <tr>\n",
       "      <th>4</th>\n",
       "      <td>madisonj@jmu.edu                              ...</td>\n",
       "      <td>james madison                                 ...</td>\n",
       "      <td>isat110</td>\n",
       "      <td>IA241                                         ...</td>\n",
       "      <td>isat110</td>\n",
       "      <td>madisonj@jmu.edu                              ...</td>\n",
       "    </tr>\n",
       "    <tr>\n",
       "      <th>5</th>\n",
       "      <td>madisonj@jmu.edu                              ...</td>\n",
       "      <td>james madison                                 ...</td>\n",
       "      <td>isat110</td>\n",
       "      <td>IA 200                                        ...</td>\n",
       "      <td>engeo2210</td>\n",
       "      <td>madisonj@jmu.edu                              ...</td>\n",
       "    </tr>\n",
       "  </tbody>\n",
       "</table>\n",
       "</div>"
      ],
      "text/plain": [
       "                                               email  \\\n",
       "0  madisonj@jmu.edu                              ...   \n",
       "1  moore8ka@jmu.edu                              ...   \n",
       "2  taoqx@jmu.edu                                 ...   \n",
       "3  raabrw@jmu.edu                                ...   \n",
       "4  madisonj@jmu.edu                              ...   \n",
       "5  madisonj@jmu.edu                              ...   \n",
       "\n",
       "                                                name                office  \\\n",
       "0  james madison                                 ...  isat110                \n",
       "1  kathleen moore                                ...  isat116                \n",
       "2  qingjiu tao                                   ...  engeo2107              \n",
       "3  ron raaab                                     ...  isat156                \n",
       "4  james madison                                 ...  isat110                \n",
       "5  james madison                                 ...  isat110                \n",
       "\n",
       "                                                name                  room  \\\n",
       "0  IA 261                                        ...  engeo2011              \n",
       "1  IA 240                                        ...  engeo2010              \n",
       "2  IA 210                                        ...  engeo1210              \n",
       "3  IA 460                                        ...  isat326                \n",
       "4  IA241                                         ...  isat110                \n",
       "5  IA 200                                        ...  engeo2210              \n",
       "\n",
       "                                              temail  \n",
       "0  madisonj@jmu.edu                              ...  \n",
       "1  moore8ka@jmu.edu                              ...  \n",
       "2  taoqx@jmu.edu                                 ...  \n",
       "3  raabrw@jmu.edu                                ...  \n",
       "4  madisonj@jmu.edu                              ...  \n",
       "5  madisonj@jmu.edu                              ...  "
      ]
     },
     "execution_count": 12,
     "metadata": {},
     "output_type": "execute_result"
    }
   ],
   "source": [
    "sql_insert_statement = '''\n",
    "select \n",
    "*\n",
    "from teacher_gp13\n",
    "inner join course_gp13\n",
    "on teacher_gp13.email = course_gp13.temail'''\n",
    "\n",
    "\n",
    "df = pandas.read_sql_query(sql_insert_statement,conn)\n",
    "df[:]\n"
   ]
  },
  {
   "cell_type": "markdown",
   "metadata": {},
   "source": [
    "# Q 4"
   ]
  },
  {
   "cell_type": "code",
   "execution_count": 13,
   "metadata": {},
   "outputs": [
    {
     "data": {
      "text/html": [
       "<div>\n",
       "<style scoped>\n",
       "    .dataframe tbody tr th:only-of-type {\n",
       "        vertical-align: middle;\n",
       "    }\n",
       "\n",
       "    .dataframe tbody tr th {\n",
       "        vertical-align: top;\n",
       "    }\n",
       "\n",
       "    .dataframe thead th {\n",
       "        text-align: right;\n",
       "    }\n",
       "</style>\n",
       "<table border=\"1\" class=\"dataframe\">\n",
       "  <thead>\n",
       "    <tr style=\"text-align: right;\">\n",
       "      <th></th>\n",
       "      <th>tname</th>\n",
       "      <th>course_num</th>\n",
       "    </tr>\n",
       "  </thead>\n",
       "  <tbody>\n",
       "    <tr>\n",
       "      <th>0</th>\n",
       "      <td>james madison                                 ...</td>\n",
       "      <td>3</td>\n",
       "    </tr>\n",
       "    <tr>\n",
       "      <th>1</th>\n",
       "      <td>qingjiu tao                                   ...</td>\n",
       "      <td>1</td>\n",
       "    </tr>\n",
       "    <tr>\n",
       "      <th>2</th>\n",
       "      <td>ron raaab                                     ...</td>\n",
       "      <td>1</td>\n",
       "    </tr>\n",
       "    <tr>\n",
       "      <th>3</th>\n",
       "      <td>kathleen moore                                ...</td>\n",
       "      <td>1</td>\n",
       "    </tr>\n",
       "  </tbody>\n",
       "</table>\n",
       "</div>"
      ],
      "text/plain": [
       "                                               tname  course_num\n",
       "0  james madison                                 ...           3\n",
       "1  qingjiu tao                                   ...           1\n",
       "2  ron raaab                                     ...           1\n",
       "3  kathleen moore                                ...           1"
      ]
     },
     "execution_count": 13,
     "metadata": {},
     "output_type": "execute_result"
    }
   ],
   "source": [
    "sql_insert_statement = '''\n",
    "select  \n",
    "teacher_gp13.name as tname,\n",
    "count(course_gp13.name) as course_num\n",
    "from teacher_gp13\n",
    "inner join course_gp13\n",
    "on teacher_gp13.email = course_gp13.temail\n",
    "group by teacher_gp13.name'''\n",
    "\n",
    "df = pandas.read_sql_query(sql_insert_statement,conn)\n",
    "df[:]"
   ]
  },
  {
   "cell_type": "markdown",
   "metadata": {},
   "source": [
    "# Q 5"
   ]
  },
  {
   "cell_type": "code",
   "execution_count": 14,
   "metadata": {},
   "outputs": [
    {
     "name": "stdout",
     "output_type": "stream",
     "text": [
      "\n",
      "                        insert into teacher_gp13(email,name,office)\n",
      "                        values('new_email6','new_name1','new_office3')\n",
      "                        \n"
     ]
    }
   ],
   "source": [
    "sql_insert_statement = '''\n",
    "                        insert into teacher_gp13(email,name,office)\n",
    "                        values('{}','{}','{}')\n",
    "                        '''.format('new_email6','new_name1','new_office3')\n",
    "print(sql_insert_statement)"
   ]
  },
  {
   "cell_type": "code",
   "execution_count": 22,
   "metadata": {},
   "outputs": [
    {
     "ename": "ForeignKeyViolation",
     "evalue": "insert or update on table \"course_gp13\" violates foreign key constraint \"course_gp13_temail_fkey\"\nDETAIL:  Key (temail)=(new_temail6                                                                                         ) is not present in table \"teacher_gp13\".\n",
     "output_type": "error",
     "traceback": [
      "\u001b[1;31m---------------------------------------------------------------------------\u001b[0m",
      "\u001b[1;31mForeignKeyViolation\u001b[0m                       Traceback (most recent call last)",
      "\u001b[1;32m<ipython-input-22-aa1d8444be3c>\u001b[0m in \u001b[0;36m<module>\u001b[1;34m()\u001b[0m\n\u001b[1;32m----> 1\u001b[1;33m \u001b[0mcur\u001b[0m\u001b[1;33m.\u001b[0m\u001b[0mexecute\u001b[0m\u001b[1;33m(\u001b[0m\u001b[0msql_insert_statement\u001b[0m\u001b[1;33m)\u001b[0m\u001b[1;33m\u001b[0m\u001b[0m\n\u001b[0m",
      "\u001b[1;31mForeignKeyViolation\u001b[0m: insert or update on table \"course_gp13\" violates foreign key constraint \"course_gp13_temail_fkey\"\nDETAIL:  Key (temail)=(new_temail6                                                                                         ) is not present in table \"teacher_gp13\".\n"
     ]
    }
   ],
   "source": [
    "cur.execute(sql_insert_statement)"
   ]
  },
  {
   "cell_type": "code",
   "execution_count": 16,
   "metadata": {},
   "outputs": [],
   "source": [
    "conn.commit()"
   ]
  },
  {
   "cell_type": "code",
   "execution_count": 17,
   "metadata": {},
   "outputs": [
    {
     "data": {
      "text/html": [
       "<div>\n",
       "<style scoped>\n",
       "    .dataframe tbody tr th:only-of-type {\n",
       "        vertical-align: middle;\n",
       "    }\n",
       "\n",
       "    .dataframe tbody tr th {\n",
       "        vertical-align: top;\n",
       "    }\n",
       "\n",
       "    .dataframe thead th {\n",
       "        text-align: right;\n",
       "    }\n",
       "</style>\n",
       "<table border=\"1\" class=\"dataframe\">\n",
       "  <thead>\n",
       "    <tr style=\"text-align: right;\">\n",
       "      <th></th>\n",
       "      <th>email</th>\n",
       "      <th>name</th>\n",
       "      <th>office</th>\n",
       "    </tr>\n",
       "  </thead>\n",
       "  <tbody>\n",
       "    <tr>\n",
       "      <th>0</th>\n",
       "      <td>moore8ka@jmu.edu                              ...</td>\n",
       "      <td>kathleen moore                                ...</td>\n",
       "      <td>isat116</td>\n",
       "    </tr>\n",
       "    <tr>\n",
       "      <th>1</th>\n",
       "      <td>raabrw@jmu.edu                                ...</td>\n",
       "      <td>ron raaab                                     ...</td>\n",
       "      <td>isat156</td>\n",
       "    </tr>\n",
       "    <tr>\n",
       "      <th>2</th>\n",
       "      <td>taoqx@jmu.edu                                 ...</td>\n",
       "      <td>qingjiu tao                                   ...</td>\n",
       "      <td>engeo2107</td>\n",
       "    </tr>\n",
       "    <tr>\n",
       "      <th>3</th>\n",
       "      <td>waltontr@jmu.edu                              ...</td>\n",
       "      <td>timothy walton                                ...</td>\n",
       "      <td>isat326</td>\n",
       "    </tr>\n",
       "    <tr>\n",
       "      <th>4</th>\n",
       "      <td>madisonj@jmu.edu                              ...</td>\n",
       "      <td>james madison                                 ...</td>\n",
       "      <td>isat110</td>\n",
       "    </tr>\n",
       "    <tr>\n",
       "      <th>5</th>\n",
       "      <td>new_email1                                    ...</td>\n",
       "      <td>new_name1                                     ...</td>\n",
       "      <td>new_office1</td>\n",
       "    </tr>\n",
       "    <tr>\n",
       "      <th>6</th>\n",
       "      <td>new_email6                                    ...</td>\n",
       "      <td>new_name1                                     ...</td>\n",
       "      <td>new_office3</td>\n",
       "    </tr>\n",
       "  </tbody>\n",
       "</table>\n",
       "</div>"
      ],
      "text/plain": [
       "                                               email  \\\n",
       "0  moore8ka@jmu.edu                              ...   \n",
       "1  raabrw@jmu.edu                                ...   \n",
       "2  taoqx@jmu.edu                                 ...   \n",
       "3  waltontr@jmu.edu                              ...   \n",
       "4  madisonj@jmu.edu                              ...   \n",
       "5  new_email1                                    ...   \n",
       "6  new_email6                                    ...   \n",
       "\n",
       "                                                name                office  \n",
       "0  kathleen moore                                ...  isat116               \n",
       "1  ron raaab                                     ...  isat156               \n",
       "2  qingjiu tao                                   ...  engeo2107             \n",
       "3  timothy walton                                ...  isat326               \n",
       "4  james madison                                 ...  isat110               \n",
       "5  new_name1                                     ...  new_office1           \n",
       "6  new_name1                                     ...  new_office3           "
      ]
     },
     "execution_count": 17,
     "metadata": {},
     "output_type": "execute_result"
    }
   ],
   "source": [
    "df = pandas.read_sql_query('''select * from teacher_gp13''',conn)\n",
    "df[:]\n"
   ]
  },
  {
   "cell_type": "code",
   "execution_count": 21,
   "metadata": {},
   "outputs": [
    {
     "name": "stdout",
     "output_type": "stream",
     "text": [
      "\n",
      "                        insert into course_gp13(name,room,temail)\n",
      "                        values('new_name10','new_room10','new_temail6')\n",
      "                        \n"
     ]
    }
   ],
   "source": [
    "sql_insert_statement = '''\n",
    "                        insert into course_gp13(name,room,temail)\n",
    "                        values('{}','{}','{}')\n",
    "                        '''.format('new_name10','new_room10','new_temail6')\n",
    "print(sql_insert_statement)"
   ]
  },
  {
   "cell_type": "code",
   "execution_count": 20,
   "metadata": {},
   "outputs": [
    {
     "data": {
      "text/html": [
       "<div>\n",
       "<style scoped>\n",
       "    .dataframe tbody tr th:only-of-type {\n",
       "        vertical-align: middle;\n",
       "    }\n",
       "\n",
       "    .dataframe tbody tr th {\n",
       "        vertical-align: top;\n",
       "    }\n",
       "\n",
       "    .dataframe thead th {\n",
       "        text-align: right;\n",
       "    }\n",
       "</style>\n",
       "<table border=\"1\" class=\"dataframe\">\n",
       "  <thead>\n",
       "    <tr style=\"text-align: right;\">\n",
       "      <th></th>\n",
       "      <th>name</th>\n",
       "      <th>room</th>\n",
       "      <th>temail</th>\n",
       "    </tr>\n",
       "  </thead>\n",
       "  <tbody>\n",
       "    <tr>\n",
       "      <th>0</th>\n",
       "      <td>IA 261                                        ...</td>\n",
       "      <td>engeo2011</td>\n",
       "      <td>madisonj@jmu.edu                              ...</td>\n",
       "    </tr>\n",
       "    <tr>\n",
       "      <th>1</th>\n",
       "      <td>IA 240                                        ...</td>\n",
       "      <td>engeo2010</td>\n",
       "      <td>moore8ka@jmu.edu                              ...</td>\n",
       "    </tr>\n",
       "    <tr>\n",
       "      <th>2</th>\n",
       "      <td>IA 210                                        ...</td>\n",
       "      <td>engeo1210</td>\n",
       "      <td>taoqx@jmu.edu                                 ...</td>\n",
       "    </tr>\n",
       "    <tr>\n",
       "      <th>3</th>\n",
       "      <td>IA 460                                        ...</td>\n",
       "      <td>isat326</td>\n",
       "      <td>raabrw@jmu.edu                                ...</td>\n",
       "    </tr>\n",
       "    <tr>\n",
       "      <th>4</th>\n",
       "      <td>IA241                                         ...</td>\n",
       "      <td>isat110</td>\n",
       "      <td>madisonj@jmu.edu                              ...</td>\n",
       "    </tr>\n",
       "    <tr>\n",
       "      <th>5</th>\n",
       "      <td>IA 200                                        ...</td>\n",
       "      <td>engeo2210</td>\n",
       "      <td>madisonj@jmu.edu                              ...</td>\n",
       "    </tr>\n",
       "  </tbody>\n",
       "</table>\n",
       "</div>"
      ],
      "text/plain": [
       "                                                name                  room  \\\n",
       "0  IA 261                                        ...  engeo2011              \n",
       "1  IA 240                                        ...  engeo2010              \n",
       "2  IA 210                                        ...  engeo1210              \n",
       "3  IA 460                                        ...  isat326                \n",
       "4  IA241                                         ...  isat110                \n",
       "5  IA 200                                        ...  engeo2210              \n",
       "\n",
       "                                              temail  \n",
       "0  madisonj@jmu.edu                              ...  \n",
       "1  moore8ka@jmu.edu                              ...  \n",
       "2  taoqx@jmu.edu                                 ...  \n",
       "3  raabrw@jmu.edu                                ...  \n",
       "4  madisonj@jmu.edu                              ...  \n",
       "5  madisonj@jmu.edu                              ...  "
      ]
     },
     "execution_count": 20,
     "metadata": {},
     "output_type": "execute_result"
    }
   ],
   "source": [
    "cur.execute(sql_insert_statement)\n",
    "conn.commit()\n",
    "df = pandas.read_sql_query('''select * from course_gp13''',conn)\n",
    "df[:]"
   ]
  },
  {
   "cell_type": "markdown",
   "metadata": {},
   "source": [
    "# Q 6"
   ]
  },
  {
   "cell_type": "code",
   "execution_count": 19,
   "metadata": {},
   "outputs": [
    {
     "data": {
      "text/html": [
       "<div>\n",
       "<style scoped>\n",
       "    .dataframe tbody tr th:only-of-type {\n",
       "        vertical-align: middle;\n",
       "    }\n",
       "\n",
       "    .dataframe tbody tr th {\n",
       "        vertical-align: top;\n",
       "    }\n",
       "\n",
       "    .dataframe thead th {\n",
       "        text-align: right;\n",
       "    }\n",
       "</style>\n",
       "<table border=\"1\" class=\"dataframe\">\n",
       "  <thead>\n",
       "    <tr style=\"text-align: right;\">\n",
       "      <th></th>\n",
       "      <th>name</th>\n",
       "      <th>room</th>\n",
       "      <th>temail</th>\n",
       "    </tr>\n",
       "  </thead>\n",
       "  <tbody>\n",
       "    <tr>\n",
       "      <th>0</th>\n",
       "      <td>IA 261                                        ...</td>\n",
       "      <td>engeo2011</td>\n",
       "      <td>madisonj@jmu.edu                              ...</td>\n",
       "    </tr>\n",
       "    <tr>\n",
       "      <th>1</th>\n",
       "      <td>IA 240                                        ...</td>\n",
       "      <td>engeo2010</td>\n",
       "      <td>moore8ka@jmu.edu                              ...</td>\n",
       "    </tr>\n",
       "    <tr>\n",
       "      <th>2</th>\n",
       "      <td>IA 210                                        ...</td>\n",
       "      <td>engeo1210</td>\n",
       "      <td>taoqx@jmu.edu                                 ...</td>\n",
       "    </tr>\n",
       "    <tr>\n",
       "      <th>3</th>\n",
       "      <td>IA 460                                        ...</td>\n",
       "      <td>isat326</td>\n",
       "      <td>raabrw@jmu.edu                                ...</td>\n",
       "    </tr>\n",
       "    <tr>\n",
       "      <th>4</th>\n",
       "      <td>IA241                                         ...</td>\n",
       "      <td>isat110</td>\n",
       "      <td>madisonj@jmu.edu                              ...</td>\n",
       "    </tr>\n",
       "    <tr>\n",
       "      <th>5</th>\n",
       "      <td>IA 200                                        ...</td>\n",
       "      <td>engeo2210</td>\n",
       "      <td>madisonj@jmu.edu                              ...</td>\n",
       "    </tr>\n",
       "  </tbody>\n",
       "</table>\n",
       "</div>"
      ],
      "text/plain": [
       "                                                name                  room  \\\n",
       "0  IA 261                                        ...  engeo2011              \n",
       "1  IA 240                                        ...  engeo2010              \n",
       "2  IA 210                                        ...  engeo1210              \n",
       "3  IA 460                                        ...  isat326                \n",
       "4  IA241                                         ...  isat110                \n",
       "5  IA 200                                        ...  engeo2210              \n",
       "\n",
       "                                              temail  \n",
       "0  madisonj@jmu.edu                              ...  \n",
       "1  moore8ka@jmu.edu                              ...  \n",
       "2  taoqx@jmu.edu                                 ...  \n",
       "3  raabrw@jmu.edu                                ...  \n",
       "4  madisonj@jmu.edu                              ...  \n",
       "5  madisonj@jmu.edu                              ...  "
      ]
     },
     "execution_count": 19,
     "metadata": {},
     "output_type": "execute_result"
    }
   ],
   "source": [
    "sql_insert_statement = '''\n",
    " \n",
    "update course_gp13\n",
    "set temail = 'madisonj@jmu.edu'\n",
    "where temail = 'waltontr@jmu.edu'\n",
    " '''\n",
    "cur.execute(sql_insert_statement)\n",
    "\n",
    "conn.commit()\n",
    "\n",
    "df = pandas.read_sql_query(\"\"\"select * from course_gp13\"\"\",conn)\n",
    "df[:]"
   ]
  },
  {
   "cell_type": "code",
   "execution_count": 23,
   "metadata": {},
   "outputs": [],
   "source": [
    "cur.close()\n",
    "conn.close()"
   ]
  }
 ],
 "metadata": {
  "kernelspec": {
   "display_name": "Python 3",
   "language": "python",
   "name": "python3"
  },
  "language_info": {
   "codemirror_mode": {
    "name": "ipython",
    "version": 3
   },
   "file_extension": ".py",
   "mimetype": "text/x-python",
   "name": "python",
   "nbconvert_exporter": "python",
   "pygments_lexer": "ipython3",
   "version": "3.6.5"
  }
 },
 "nbformat": 4,
 "nbformat_minor": 2
}
