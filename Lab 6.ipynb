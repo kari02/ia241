{
 "cells": [
  {
   "cell_type": "markdown",
   "metadata": {},
   "source": [
    "# 1"
   ]
  },
  {
   "cell_type": "code",
   "execution_count": 6,
   "metadata": {},
   "outputs": [],
   "source": [
    "import xlrd\n",
    "import xlwt\n",
    "import xlutils"
   ]
  },
  {
   "cell_type": "markdown",
   "metadata": {},
   "source": [
    "# 2"
   ]
  },
  {
   "cell_type": "code",
   "execution_count": 7,
   "metadata": {},
   "outputs": [],
   "source": [
    "from urllib import request\n",
    "import json\n",
    "from pprint import pprint"
   ]
  },
  {
   "cell_type": "code",
   "execution_count": 8,
   "metadata": {},
   "outputs": [
    {
     "name": "stdout",
     "output_type": "stream",
     "text": [
      "https://api.census.gov/data/2016/acs/acs5?get=B01001_001E,B01001_002E,NAME&for=county:*&in=state:51&key=f1f893993e4d2de06ebfabf907701b20c0dc83da\n"
     ]
    }
   ],
   "source": [
    "censu_api_key= 'f1f893993e4d2de06ebfabf907701b20c0dc83da'\n",
    "\n",
    "url_str='https://api.census.gov/data/2016/acs/acs5?get=B01001_001E,B01001_002E,NAME&for=county:*&in=state:51&key=f1f893993e4d2de06ebfabf907701b20c0dc83da'\n",
    "\n",
    "print(url_str)"
   ]
  },
  {
   "cell_type": "code",
   "execution_count": 9,
   "metadata": {},
   "outputs": [
    {
     "name": "stdout",
     "output_type": "stream",
     "text": [
      "['B01001_001E', 'B01001_002E', 'NAME', 'state', 'county']\n",
      "B01001_001E B01001_002E\n",
      "33060 16125\n",
      "104287 49946\n",
      "15919 7788\n",
      "12793 6642\n",
      "31999 15346\n",
      "15314 7424\n",
      "226092 112644\n",
      "74330 37572\n",
      "4558 2465\n",
      "76933 37888\n",
      "6612 3733\n",
      "33192 16425\n",
      "16573 8668\n",
      "23158 11673\n",
      "17030 9453\n",
      "55061 26745\n",
      "29640 14677\n",
      "29733 14897\n",
      "7086 3456\n",
      "12232 6121\n",
      "331839 159789\n",
      "14307 7087\n",
      "5195 2509\n",
      "48952 24612\n",
      "9769 4779\n",
      "15304 7814\n",
      "28155 13903\n",
      "11130 5137\n",
      "1132887 560803\n",
      "68025 33659\n",
      "15587 7682\n",
      "26046 11826\n",
      "56230 27592\n",
      "82321 40925\n",
      "16871 8233\n",
      "37021 18267\n",
      "21979 10791\n",
      "15180 7463\n",
      "19085 9321\n",
      "11698 7254\n",
      "35305 16844\n",
      "102199 50104\n",
      "321921 152084\n",
      "52209 25094\n",
      "2230 994\n",
      "36027 17600\n",
      "71900 34876\n",
      "7140 3673\n",
      "25260 12588\n",
      "16156 8003\n",
      "11055 5128\n",
      "24911 13083\n",
      "362435 179315\n",
      "34350 16874\n",
      "12450 6498\n",
      "13122 6410\n",
      "8848 4144\n",
      "31209 15133\n",
      "10728 5295\n",
      "97227 50364\n",
      "14831 7171\n",
      "20051 10215\n",
      "12118 5772\n",
      "12272 5966\n",
      "15641 8483\n",
      "34873 17110\n",
      "23759 11636\n",
      "18180 8967\n",
      "62392 30667\n",
      "28286 15198\n",
      "23077 11532\n",
      "37664 20615\n",
      "443630 220996\n",
      "34417 17147\n",
      "7416 3643\n",
      "8868 4960\n",
      "93655 44946\n",
      "22450 11150\n",
      "78427 38501\n",
      "27973 13693\n",
      "22378 11259\n",
      "42857 20972\n",
      "31513 15623\n",
      "18291 9555\n",
      "129181 63429\n",
      "139548 70245\n",
      "6731 3317\n",
      "11733 7715\n",
      "43367 21489\n",
      "38807 19357\n",
      "54562 27008\n",
      "17528 8640\n",
      "40074 20706\n",
      "29171 14234\n",
      "66919 32825\n",
      "151473 73054\n",
      "17340 8084\n",
      "6610 2916\n",
      "45538 22057\n",
      "233194 113888\n",
      "17554 8068\n",
      "5650 2903\n",
      "42360 19379\n",
      "5565 2564\n",
      "23620 11626\n",
      "13597 6577\n",
      "8413 3699\n",
      "27853 13066\n",
      "6858 3290\n",
      "136789 65983\n",
      "51979 24857\n",
      "22332 10383\n",
      "7036 3979\n",
      "78755 36987\n",
      "41149 20455\n",
      "15827 8387\n",
      "13551 6225\n",
      "181606 88071\n",
      "245724 128011\n",
      "3978 1763\n",
      "31997 14709\n",
      "12068 5912\n",
      "96071 46306\n",
      "17186 8544\n",
      "216773 102936\n",
      "99329 47524\n",
      "25290 11904\n",
      "24234 10937\n",
      "87061 42144\n",
      "449733 221023\n",
      "21366 10205\n",
      "14988 6532\n",
      "27349 13355\n"
     ]
    }
   ],
   "source": [
    "response = request.urlopen(url_str) # read the response into computer\n",
    "\n",
    "html_str = response.read().decode(\"utf-8\") # convert the response into string\n",
    "\n",
    "if html_str:\n",
    "    json_data = json.loads(html_str) # convert the string into json\n",
    "    print (json_data[0])\n",
    "    for record in json_data:\n",
    "        total_pop,male_pop,name,state,county_num=record\n",
    "        print(total_pop,male_pop)"
   ]
  },
  {
   "cell_type": "markdown",
   "metadata": {},
   "source": [
    "# 3"
   ]
  },
  {
   "cell_type": "code",
   "execution_count": 10,
   "metadata": {},
   "outputs": [],
   "source": [
    "book=xlwt.Workbook()\n",
    "\n",
    "sheet=book.add_sheet('Population')\n",
    "i=0\n",
    "if html_str:\n",
    "    json_data = json.loads(html_str) # convert the string into json\n",
    "    for record in json_data:\n",
    "        total_pop,male_pop,name,state,county_num=record\n",
    "        sheet.write(i,0,total_pop)\n",
    "        sheet.write(i,1,male_pop)\n",
    "        i+=1\n",
    "        \n",
    "book.save('Census.xls')"
   ]
  },
  {
   "cell_type": "markdown",
   "metadata": {},
   "source": [
    "# 4"
   ]
  },
  {
   "cell_type": "code",
   "execution_count": 11,
   "metadata": {},
   "outputs": [
    {
     "name": "stdout",
     "output_type": "stream",
     "text": [
      "['B01001_001E', 'B01001_002E']\n",
      "['33060', '16125']\n",
      "['104287', '49946']\n",
      "['15919', '7788']\n",
      "['12793', '6642']\n",
      "['31999', '15346']\n",
      "['15314', '7424']\n",
      "['226092', '112644']\n",
      "['74330', '37572']\n",
      "['4558', '2465']\n"
     ]
    }
   ],
   "source": [
    "book=xlrd.open_workbook('Census.xls')\n",
    "\n",
    "sheet=book.sheet_by_name(\"Population\")\n",
    "\n",
    "for i in range(10):\n",
    "    row=sheet.row_values(i)\n",
    "    print(row)"
   ]
  },
  {
   "cell_type": "markdown",
   "metadata": {},
   "source": [
    "# 5"
   ]
  },
  {
   "cell_type": "code",
   "execution_count": 20,
   "metadata": {},
   "outputs": [],
   "source": [
    "from xlutils.copy import copy\n",
    "\n",
    "read_book=xlrd.open_workbook('Census.xls')\n",
    "sheet=read_book.sheet_by_name(\"Population\")\n",
    "num_rows=sheet.nrows\n",
    "write_book=copy(read_book)\n",
    "\n",
    "write_sheet=write_book.get_sheet(0)\n",
    "\n",
    "for i in range(num_rows):\n",
    "    row=sheet.row_values(i)\n",
    "\n",
    "\n",
    "    B01001_001E,B01001_002E = row\n",
    "    if i==0:\n",
    "        write_sheet.write(i,2,'ratio')\n",
    "    else:\n",
    "        write_sheet.write(i,2,int(B01001_002E)/int(B01001_001E))\n",
    "        \n",
    "write_book.save('Census.xls')"
   ]
  },
  {
   "cell_type": "markdown",
   "metadata": {},
   "source": [
    "# 6"
   ]
  },
  {
   "cell_type": "code",
   "execution_count": 25,
   "metadata": {},
   "outputs": [
    {
     "name": "stdout",
     "output_type": "stream",
     "text": [
      "ratio\n",
      "0.48774954627949185\n",
      "0.4789283419793455\n",
      "0.48922671022049125\n",
      "0.5191901821308528\n",
      "0.4795774867964624\n",
      "0.48478516390231163\n",
      "0.4982219627408312\n",
      "0.5054755818646576\n",
      "0.5408073716542343\n"
     ]
    }
   ],
   "source": [
    "book=xlrd.open_workbook('Census.xls')\n",
    "\n",
    "sheet=book.sheet_by_name(\"Population\")\n",
    "\n",
    "for i in range(10):\n",
    "    row=sheet.row_values(i)\n",
    "    total_pop,male_pop,ratio = row\n",
    "    print(ratio)"
   ]
  },
  {
   "cell_type": "code",
   "execution_count": null,
   "metadata": {},
   "outputs": [],
   "source": []
  }
 ],
 "metadata": {
  "kernelspec": {
   "display_name": "Python 3",
   "language": "python",
   "name": "python3"
  },
  "language_info": {
   "codemirror_mode": {
    "name": "ipython",
    "version": 3
   },
   "file_extension": ".py",
   "mimetype": "text/x-python",
   "name": "python",
   "nbconvert_exporter": "python",
   "pygments_lexer": "ipython3",
   "version": "3.6.5"
  }
 },
 "nbformat": 4,
 "nbformat_minor": 2
}
