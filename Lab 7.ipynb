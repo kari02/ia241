{
 "cells": [
  {
   "cell_type": "markdown",
   "metadata": {},
   "source": [
    "# Q1"
   ]
  },
  {
   "cell_type": "markdown",
   "metadata": {},
   "source": [
    "Company: Leidos\n",
    "Description: IA job\n",
    "[job website](https://careers.leidos.com/jobs/3699009-all-source-intelligence-analyst?bid=326)"
   ]
  },
  {
   "cell_type": "code",
   "execution_count": 5,
   "metadata": {},
   "outputs": [
    {
     "name": "stdout",
     "output_type": "stream",
     "text": [
      "Job Description: \n",
      "\n",
      "Job Description/Details:\n",
      "\n",
      "The candidate shall possess expertise in underwater technologies in order to conduct all-source intelligence analysis focused on analyzing and reporting existing and emerging maritime technology capabilities. Knowledge/expertise in the following underwater systems/technologies is essential:\n",
      "\n",
      "•\tUnmanned undersea vehicles\n",
      "•\tManned submersibles\n",
      "•\tSeafloor imaging sensors (acoustic & optical)\n",
      "•\tUndersea vehicle navigation and positioning\n",
      "\n",
      "\n",
      "The candidate will need to:\n",
      "\n",
      "•\tPossess expertise in analyzing capabilities, readiness and operations of maritime vessels that employ underwater technologies.\n",
      "•\tDocument analysis and assessments in various memorandum, technical reports and/or briefings to be presented to the Customer and/or designated Customer audiences.\n",
      "•\tattend designated underwater technology conferences and collect pertinent information as directed.Details of conference attendance shall be documented within a trip report highlighting the collection opportunities and significant elements of information acquired including technical research papers, brochures or other media acquired during conference attendance.\n",
      "\n",
      "\n",
      "Requirements \n",
      "\n",
      "•\tRequires a bachelor's degree or equivalent related experience in all-source intelligence analysis in the maritime domain and a minimum of 4 years of relevant work experience\n",
      "•\tCurrently possess an active TS/SCI Security clearance \n",
      "\n",
      "\n",
      "Required Skills:\n",
      "\n",
      "•\tSolid grasp of maritime vessel operations\n",
      "•\tSolid grasp of underwater vehicle systems and operations\n",
      "•\tSolid knowledge of maritime system/platform capabilities\n",
      "•\tExcellent interpersonal skills in interacting with customers, colleagues and other technical staff in a courteous and friendly manner\n",
      "•\tDemonstrated ability to present information clearly and concisely in both written and oral presentatio\n",
      "•\tBackground in foreign maritime analysis\n",
      "•\tExperience with Geographical Information Systems (ESRI ArcGIS preferred)\n",
      "•\tPositive goal-oriented attitude in the workplace\n",
      "\n",
      "\n",
      "Leidos is a Fortune 500® information technology, engineering, and science solutions and services leader working to solve the world's toughest challenges in the defense, intelligence, homeland security, civil, and health markets. The company's 31,000 employees support vital missions for government and commercial customers. Headquartered in Reston, Virginia, Leidos reported annual revenues of approximately $10.17 billion for the fiscal year ended December 29, 2017. (NYSE: LDOS) All qualified applicants will receive consideration for employment without regard to race, color, religion, sex, sexual orientation, gender identity, national origin, disability or veteran status. \n",
      "\n",
      "\n"
     ]
    }
   ],
   "source": [
    "ia_job = open(\"Job.txt\", \"r\")\n",
    "print(ia_job.read())"
   ]
  },
  {
   "cell_type": "markdown",
   "metadata": {},
   "source": [
    "# Q2"
   ]
  },
  {
   "cell_type": "code",
   "execution_count": 6,
   "metadata": {},
   "outputs": [
    {
     "name": "stdout",
     "output_type": "stream",
     "text": [
      "and 17\n",
      "• 17\n",
      "in 14\n",
      "of 9\n",
      "the 8\n",
      "to 6\n",
      "maritime 6\n",
      "underwater 5\n",
      "a 5\n",
      "analysis 4\n",
      "information 4\n",
      "The 3\n",
      "operations 3\n",
      "technical 3\n",
      "or 3\n",
      "Solid 3\n",
      "for 3\n",
      "Job 2\n",
      "candidate 2\n",
      "shall 2\n"
     ]
    }
   ],
   "source": [
    "from collections import Counter \n",
    "\n",
    "with open('Job.txt', 'r') as ia_job:\n",
    "    ia_job = ia_job.read().split()\n",
    "    \n",
    "    count_result = Counter(ia_job)\n",
    "    \n",
    "    for word, count in count_result.most_common(20):\n",
    "        print(word,count)"
   ]
  },
  {
   "cell_type": "markdown",
   "metadata": {},
   "source": [
    "# Q3"
   ]
  },
  {
   "cell_type": "code",
   "execution_count": 7,
   "metadata": {
    "scrolled": true
   },
   "outputs": [],
   "source": [
    "import xlwt\n",
    "from collections import Counter\n",
    "book = xlwt.Workbook()\n",
    "\n",
    "sheet_test = book.add_sheet('word_count') \n",
    "i = 0\n",
    "sheet_test.write(i,0,'word') \n",
    "sheet_test.write(i,1,'count') \n",
    " \n",
    "\n",
    "with open('Job.txt','r') as ia_job:\n",
    "    count_result =  Counter(ia_job.read().split()) \n",
    "    for result in count_result.most_common(20):\n",
    "        i = i+1 \n",
    "        sheet_test.write(i,0,result[0])\n",
    "        sheet_test.write(i,1,result[1])\n",
    "        \n",
    "book.save('Job.xls')"
   ]
  },
  {
   "cell_type": "markdown",
   "metadata": {},
   "source": [
    "# Q4"
   ]
  },
  {
   "cell_type": "code",
   "execution_count": 9,
   "metadata": {
    "scrolled": true
   },
   "outputs": [
    {
     "name": "stdout",
     "output_type": "stream",
     "text": [
      "['word', 'count']\n",
      "['and', 17.0]\n",
      "['•', 17.0]\n",
      "['in', 14.0]\n",
      "['of', 9.0]\n",
      "['the', 8.0]\n",
      "['to', 6.0]\n",
      "['maritime', 6.0]\n",
      "['underwater', 5.0]\n",
      "['a', 5.0]\n",
      "['analysis', 4.0]\n",
      "['information', 4.0]\n",
      "['The', 3.0]\n",
      "['operations', 3.0]\n",
      "['technical', 3.0]\n",
      "['or', 3.0]\n",
      "['Solid', 3.0]\n",
      "['for', 3.0]\n",
      "['Job', 2.0]\n",
      "['candidate', 2.0]\n",
      "['shall', 2.0]\n"
     ]
    }
   ],
   "source": [
    "import xlrd \n",
    "book = xlrd.open_workbook('Job.xls')\n",
    "sheet = book.sheet_by_name(\"word_count\")\n",
    "for i in range(sheet.nrows):\n",
    "    row = sheet.row_values(i)\n",
    "    print(row)"
   ]
  },
  {
   "cell_type": "markdown",
   "metadata": {},
   "source": [
    "# Q5"
   ]
  },
  {
   "cell_type": "markdown",
   "metadata": {},
   "source": [
    "<img src = 'Sheet 1.png'>"
   ]
  }
 ],
 "metadata": {
  "kernelspec": {
   "display_name": "Python 3",
   "language": "python",
   "name": "python3"
  },
  "language_info": {
   "codemirror_mode": {
    "name": "ipython",
    "version": 3
   },
   "file_extension": ".py",
   "mimetype": "text/x-python",
   "name": "python",
   "nbconvert_exporter": "python",
   "pygments_lexer": "ipython3",
   "version": "3.6.5"
  }
 },
 "nbformat": 4,
 "nbformat_minor": 2
}
