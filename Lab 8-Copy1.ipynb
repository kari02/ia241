{
 "cells": [
  {
   "cell_type": "markdown",
   "metadata": {},
   "source": [
    "# Job 1"
   ]
  },
  {
   "cell_type": "markdown",
   "metadata": {},
   "source": [
    "Jr. Investigative Analyst\n",
    "\n",
    "fbi\n",
    "\n",
    "[link](https://www.indeed.com/viewjob?jk=b72f2e61c51bc78b&tk=1d6gonsql184m002&from=serp&vjs=3&advn=9022769370744243&adid=92364561&sjdu=XCh7p2N2nGtb4r3leERKyFGxoEpNiDK0vAIhz-VNBccnyvODtoAq7ybbxmMXBOfyUlBo8e2pFzFkuw9rJEThatVzOwMF6dfl13xIMRn7_m6-fnvlH7lBIoSWcgtmGUPRNDZv0iXfX1kgLDBUip1yGw\n",
    ")\n",
    "        "
   ]
  },
  {
   "cell_type": "markdown",
   "metadata": {},
   "source": [
    "# Job 2"
   ]
  },
  {
   "cell_type": "markdown",
   "metadata": {},
   "source": [
    "Associate Intelligence Analyst\n",
    "\n",
    "mitre\n",
    "\n",
    "[link](https://www.glassdoor.com/job-listing/associate-intelligence-analyst-polygraph-clearance-mitre-JV_IC1158535_KO0,50_KE51,56.htm?jl=3129219506&utm_campaign=google_jobs_apply&utm_source=google_jobs_apply&utm_medium=organic)"
   ]
  },
  {
   "cell_type": "markdown",
   "metadata": {},
   "source": [
    "# Q1"
   ]
  },
  {
   "cell_type": "code",
   "execution_count": 1,
   "metadata": {},
   "outputs": [],
   "source": [
    "import xlwt        \n",
    "\n",
    "from collections import Counter        \n",
    "\n",
    "from nltk.corpus import stopwords\n",
    "\n",
    "stop = set(stopwords.words('english'))\n",
    "  \n",
    "book = xlwt.Workbook() \n",
    "\n",
    "sheet_test = book.add_sheet('word_count') \n",
    "i = 0\n",
    "\n",
    "sheet_test.write(i,0,'word') \n",
    "\n",
    "sheet_test.write(i,1,'count') \n",
    "\n",
    "sheet_test.write(i,2,'ratio') \n",
    "    \n",
    "\n",
    "with open('FBI.txt','r',encoding='utf-8', errors = 'ignore') as text_word: \n",
    "\n",
    "    word_list = [i for i in text_word.read().lower().split() if i not in stop]\n",
    "\n",
    "    word_total = word_list.__len__() \n",
    "\n",
    "    count_result =  Counter(word_list)\n",
    "\n",
    "    for result in count_result.most_common(10):\n",
    "\n",
    "        i = i+1 \n",
    "\n",
    "        sheet_test.write(i,0,result[0])\n",
    "\n",
    "        sheet_test.write(i,1,result[1])\n",
    "\n",
    "        sheet_test.write(i,2,(result[1]/word_total))\n",
    "\n",
    "book.save('FBI.xls')"
   ]
  },
  {
   "cell_type": "code",
   "execution_count": 2,
   "metadata": {},
   "outputs": [],
   "source": [
    "import xlwt        \n",
    "\n",
    "from collections import Counter        \n",
    "\n",
    "from nltk.corpus import stopwords\n",
    "\n",
    "stop = set(stopwords.words('english'))\n",
    "  \n",
    "book = xlwt.Workbook() \n",
    "\n",
    "sheet_test = book.add_sheet('word_count') \n",
    "i = 0\n",
    "\n",
    "sheet_test.write(i,0,'word') \n",
    "\n",
    "sheet_test.write(i,1,'count') \n",
    "\n",
    "sheet_test.write(i,2,'ratio') \n",
    "    \n",
    "\n",
    "with open('mitre.txt','r',encoding='utf-8', errors = 'ignore') as text_word: \n",
    "\n",
    "    word_list = [i for i in text_word.read().lower().split() if i not in stop]\n",
    "\n",
    "    word_total = word_list.__len__() \n",
    "\n",
    "    count_result =  Counter(word_list)\n",
    "\n",
    "    for result in count_result.most_common(10):\n",
    "\n",
    "        i = i+1 \n",
    "\n",
    "        sheet_test.write(i,0,result[0])\n",
    "\n",
    "        sheet_test.write(i,1,result[1])\n",
    "\n",
    "        sheet_test.write(i,2,(result[1]/word_total))\n",
    "\n",
    "book.save('mitre.xls')"
   ]
  },
  {
   "cell_type": "markdown",
   "metadata": {},
   "source": [
    "# Q2"
   ]
  },
  {
   "cell_type": "markdown",
   "metadata": {},
   "source": [
    "# FBI"
   ]
  },
  {
   "cell_type": "markdown",
   "metadata": {},
   "source": [
    "<img src=\"FBI.png\">\n"
   ]
  },
  {
   "cell_type": "markdown",
   "metadata": {},
   "source": [
    "# mitre"
   ]
  },
  {
   "cell_type": "markdown",
   "metadata": {},
   "source": [
    "<img src=\"Sheet 1.png\">"
   ]
  },
  {
   "cell_type": "markdown",
   "metadata": {},
   "source": [
    "# Q3"
   ]
  },
  {
   "cell_type": "code",
   "execution_count": 4,
   "metadata": {},
   "outputs": [
    {
     "name": "stdout",
     "output_type": "stream",
     "text": [
      "{'techniques,', 'provides', 'Services', 'SOPs.', 'each', 'must', 'Skills', 'Bureau', 'appeal', 'up', 'weather', 'equivalent', 'contact,', 'description', 'FBI', 'people', '(SOP)', 'Maintain', 'characteristics', 'eligibility', 'regularly', 'documentation', 'Will', 'forth', 'airborne', 'Clarksburg,', 'Brady', 'particles,', '(Reasonable', 'correspondence', 'areas', 'contact', 'Abilities:', 'extreme', 'Numbers.', 'purge', 'preference', 'those', 'will', 'recommended', 'Employment', 'NICS', 'determination', 'assigned', 'scanning', 'law', 'spending', 'feel', 'success', 'oral', 'Opportunity', 'responses.', 'professional', 'sit', 'reviews', 'Native', 'updated', 'move', 'continuously,', 'career', 'successfully,', 'During', 'minimum', 'Physical', 'not', 'Upon', 'may', 'demands', 'processes,', 'Delay', 'Compose', '1', 'job.', 'Team', 'fumes', 'Monday', 'communications,', 'Instant', 'new', 'toxic', 'first', 'job.)', 'salary', 'Ability', 'met', 'Background', 'Queue', 'support,', 'prioritize,', 'security,', 'operations,', 'that', 'copier,', 'telephone,', 'marked', 'functioning', 'their', 'Clearance.', 'Superior', 'short', 'agencies', 'Secret', 'caustic', 'Specific', 'need', 'crawl.', 'perform', 'companies', 'investigations,', 'Identity', 'completed', 'document', 'Strong', 'objectives', 'System', 'service', 'national', 'enable', 'accounts,', 'exposed', 'Time', 'assisting', '93-638.', 'day', 'package.', 'following', 'conditions.', 'While', 'disability,', 'intelligence,', 'cyber', 'benefits', 'telephonic', 'support', 'under', 'provide', 'federal', 'dental,', 'composing', 'action', 'flexible', 'or', 'information', 'experience.', 'walk;', 'enforcement,', 'plan,', 'assigned.', 'Intermediate', 'participate', 'Individuals', 'are', 'hire,', 'Read', 'comments.', 'life,', 'being', 'considered.', 'Complete', 'apply', 'corresponding', 'able', 'issues', 'required', 'Job,', 'training', 'specific', 'Employer', 'electronic', 'correct/update', 'as', 'Identifiers', 'equipment.', 'control', 'Desired', 'follow-up', 'EOE.', 'Duties', 'National', 'Section.', 'Information', 'Qualifications:', 'this', 'law.', '(BAT).', 'Standard', 'mission', 'processes', 'Benefits', 'about', 'administrative', 'frequent', 'via', 'exposure', 'NICS,', 'transaction', 'lift', 'abilities', 'Other', '4', 'Agency', 'Active', 'update', 'disabilities', 'ensure', 'possess', '(NICS)', 'Assist', 'hands', 'detailed', 'individually', 'maintaining', '(FBI)', 'essential', 'monitored', 'two', 'Provide', '401(k)', 'occasionally', 'Document', 'saying', 'kneel,', 'Verification', 'M#', 'satisfactorily.)', 'family', 'encounters', 'requests', 'Program.', 'Contact', 'PL', 'Check', 'Assessment', 'Friday.', 'persons', 'skills.', 'temperature-controlled', 'these', 'solutions.', 'assistance.', 'actions', 'criminal', 'accuracy.', 'adequate', 'Licenses', 'stand;', 'verification', 'Required)', 'through', 'receive', 'Originating', 'role.', 'reviewed', 'position:', 'Investigative', 'handle,', 'processed', 'standards', 'high', 'vision.', 'Process', 'accuracy', 'Clearance', '8-10', 'systems', 'We', 'WV', 'armed', 'LLC', 'Operating', 'paths', 'providing', 'Sections', 'pounds.', 'prepare', 'held', 'Reasonable', 'processing,', 'individuals', 'crouch,', 'responsible', 'successfully', 'Minorities/Women/Veterans/Disabled/Sexual', 'models,', 'members', 'security', 'offers', 'within', 'accountable', 'Validate', 'contribute', 'Demands:', 'Equal', 'environment', 'school', 'Mary', 'retirement', 'Conduct', 'Firearms', 'Orientation/Gender', 'biometrics.', 'checks', 'explosives', 'independently', 'contact-related', 'close', 'working', 'chemicals,', 'transactions', 'functions', 'vision', 'hour', 'talk', 'Is', 'BAT.', 'Federal', '(SOP).', 'Solutions,', 'hear.', 'analytic', 'Jacenich', 'identified', 'noise.', 'here.', 'Identification', 'agency,', 'workload', 'transaction,', 'environment,', 'program', 'Criminal', 'Knowledge,', '-', '25', 'use', 'made', 'Chenega', 'supplied', 'per', 'FFL', 'validity.', 'guard,', 'diploma', 'military,', 'position)', 'loud', 'deemed', 'medical,', 'any', 'long-term', 'an', 'functions.)', 'described', '(Secret', 'vision,', 'backgrounds', 'methods.', 'employee', 'hot', 'Jr.', 'Environment:', 'accordance', 'duties', '452', 'job', 'Investigation', 'issue', 'all', 'necessary', 'records', 'visits', '(FFL)', 'Analyst', 'independently.', 'needed),', 'clean-up', 'Minimum', 'Unit', 'existing', 'Procedures', 'while', 'execute', 'NICS.', '5-day,', 'computer,', 'justice,', 'method', 'Section', '(CJIS)', 'arms.', 'timely', '(The', 'balance', '(reviewing', 'Advocate', 'individual', 'public', 'cold', 'Justice', 'incoming', 'set', 'safety', 'accommodations', 'frequently', 'on-the-job', 'representative', 'competitive', 'permit', 'year', 'firearms', 'Recruiter', 'various', 'agency', 'duty', 'proper', 'Responsibilities:', 'by', 'processing', 'personnel', 'what', 'and/or', 'finger,', 'here', 'service,', 'stoop,', 'climb', 'Division', 'analytical', 'normally', 'E-Verify', 'immediate', 'quality', 'disposition', 'printer,', 'submitted', 'Evaluate,', 'Business', 'needed.', '(To', 'received', 'office', 'reach', 'shifts', 'procedures,'}\n",
      "{'proficient', 'officials', 'clearance', 'audiences.', 'radicalization,', 'A', 'Demonstrated', 'terrorist', 'issues.', 'effectively', 'required.', 'Counterintelligence', 'filed', 'write', 'finance,', 'Position', 'Community', 'ability', 'skills', 'threat', 'customers', 'audiences', 'regional', 'variety', 'Degree', 'Intelligence', 'at', 'Must', 'Polygraph.', 'across', 'analysts.', 'site.', '(IC)', 'Manage', 'Polygraph', 'senior', 'myriad', 'analysts', 'outreach', 'multi-discipline', 'boundaries.', 'analyst', 'directly', 'seeking', 'topics.', 'MITRE', 'Requirements:', 'BS/BA', 'highly-motivated', 'tasks', 'TS/SCI', 'organizations,', 'government', 'communicate', 'intelligence', 'IC', 'Outstanding', 'willing'}\n"
     ]
    }
   ],
   "source": [
    "with open ('FBI.txt','r',encoding='utf-8',errors = 'ignore')as FBI: \n",
    "    with open('mitre.txt','r',encoding='utf-8',errors = 'ignore')as mitre:\n",
    "        FBI_str = FBI.read()\n",
    "        mitre_str = mitre.read()\n",
    "              \n",
    "        FBI_set = set(FBI_str.split())  \n",
    "        mitre_set = set(mitre_str.split())\n",
    "        \n",
    "        print(FBI_set.difference(mitre_set)) \n",
    "        print(mitre_set.difference(FBI_set))"
   ]
  },
  {
   "cell_type": "markdown",
   "metadata": {},
   "source": [
    "# Q4"
   ]
  },
  {
   "cell_type": "code",
   "execution_count": 11,
   "metadata": {},
   "outputs": [
    {
     "name": "stdout",
     "output_type": "stream",
     "text": [
      "2\n"
     ]
    }
   ],
   "source": [
    "from fuzzywuzzy import fuzz\n",
    "with open('FBI.txt','r',encoding='utf-8',errors = 'ignore') as FBI:\n",
    "    with open('mitre.txt','r',encoding='utf-8',errors = 'ignore') as mitre:\n",
    "        FBI_str =FBI.read()\n",
    "        mitre_str =mitre.read()\n",
    "        print(fuzz.token_sort_ratio(mitre_str,FBI_str))\n",
    "        #FBI_set = set(FBI_str.split())\n",
    "        #mitre_set= set(mitre_str.split())\n",
    "        #print(mitre_set.difference(FBI_set)\n",
    "        #print(FBI_set.difference(mitre_set)\n",
    "        "
   ]
  }
 ],
 "metadata": {
  "kernelspec": {
   "display_name": "Python 3",
   "language": "python",
   "name": "python3"
  },
  "language_info": {
   "codemirror_mode": {
    "name": "ipython",
    "version": 3
   },
   "file_extension": ".py",
   "mimetype": "text/x-python",
   "name": "python",
   "nbconvert_exporter": "python",
   "pygments_lexer": "ipython3",
   "version": "3.6.5"
  }
 },
 "nbformat": 4,
 "nbformat_minor": 2
}
