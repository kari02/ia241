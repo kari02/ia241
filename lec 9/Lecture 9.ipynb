{
 "cells": [
  {
   "cell_type": "markdown",
   "metadata": {},
   "source": [
    "# Basic statistics using numpy"
   ]
  },
  {
   "cell_type": "code",
   "execution_count": 1,
   "metadata": {},
   "outputs": [],
   "source": [
    "num1=[1,2,3,4,5,6]\n",
    "num2=[1,3,5,7,9,11]"
   ]
  },
  {
   "cell_type": "code",
   "execution_count": 2,
   "metadata": {},
   "outputs": [],
   "source": [
    "import numpy as np"
   ]
  },
  {
   "cell_type": "code",
   "execution_count": 14,
   "metadata": {},
   "outputs": [
    {
     "name": "stdout",
     "output_type": "stream",
     "text": [
      "1\n",
      "1\n",
      "6\n",
      "11\n"
     ]
    }
   ],
   "source": [
    "print(np.amin(num1))\n",
    "print(np.amin(num2))\n",
    "print(np.amax(num1))\n",
    "print(np.amax(num2))"
   ]
  },
  {
   "cell_type": "code",
   "execution_count": 8,
   "metadata": {},
   "outputs": [
    {
     "name": "stdout",
     "output_type": "stream",
     "text": [
      "the min of num 1 is 1\n",
      "the min of num 2 is 1\n"
     ]
    }
   ],
   "source": [
    "print(\"the min of {} is {}\".format('num 1', np.amin(num1)))\n",
    "print(\"the min of {} is {}\".format('num 2', np.amin(num2)))"
   ]
  },
  {
   "cell_type": "code",
   "execution_count": 10,
   "metadata": {},
   "outputs": [
    {
     "name": "stdout",
     "output_type": "stream",
     "text": [
      "the max of num 1 is 6\n",
      "the max of num 2 is 11\n"
     ]
    }
   ],
   "source": [
    "print(\"the max of {} is {}\".format('num 1', np.amax(num1)))\n",
    "print(\"the max of {} is {}\".format('num 2', np.amax(num2)))"
   ]
  },
  {
   "cell_type": "code",
   "execution_count": 12,
   "metadata": {},
   "outputs": [
    {
     "name": "stdout",
     "output_type": "stream",
     "text": [
      "the range of num 1 is 5\n",
      "the range of num 2 is 10\n"
     ]
    }
   ],
   "source": [
    "print(\"the range of {} is {}\".format('num 1', np.ptp(num1)))\n",
    "print(\"the range of {} is {}\".format('num 2', np.ptp(num2)))"
   ]
  },
  {
   "cell_type": "code",
   "execution_count": 16,
   "metadata": {},
   "outputs": [
    {
     "name": "stdout",
     "output_type": "stream",
     "text": [
      "the mean of num 1 is 3.5\n",
      "the median of num 1 is 3.5\n"
     ]
    }
   ],
   "source": [
    "print(\"the mean of {} is {}\".format('num 1', np.mean(num1)))\n",
    "print(\"the median of {} is {}\".format('num 1', np.median(num1)))"
   ]
  },
  {
   "cell_type": "code",
   "execution_count": 17,
   "metadata": {},
   "outputs": [
    {
     "name": "stdout",
     "output_type": "stream",
     "text": [
      "the standard deviation of num 1 is 1.707825127659933\n",
      "the standard deviation of num 2 is 3.415650255319866\n"
     ]
    }
   ],
   "source": [
    "print(\"the standard deviation of {} is {}\".format('num 1', np.std(num1)))\n",
    "print(\"the standard deviation of {} is {}\".format('num 2', np.std(num2)))"
   ]
  },
  {
   "cell_type": "markdown",
   "metadata": {},
   "source": [
    "# correlation coefficient"
   ]
  },
  {
   "cell_type": "code",
   "execution_count": 19,
   "metadata": {},
   "outputs": [
    {
     "name": "stdout",
     "output_type": "stream",
     "text": [
      "[[1. 1.]\n",
      " [1. 1.]]\n",
      "[[1.         0.07100716]\n",
      " [0.07100716 1.        ]]\n"
     ]
    }
   ],
   "source": [
    "num3=[3,4,2,1,9,1]\n",
    "\n",
    "print(np.corrcoef(num1,num2))\n",
    "print(np.corrcoef(num1,num3))"
   ]
  },
  {
   "cell_type": "markdown",
   "metadata": {},
   "source": [
    "# linear regression"
   ]
  },
  {
   "cell_type": "code",
   "execution_count": 20,
   "metadata": {},
   "outputs": [],
   "source": [
    "from scipy import stats"
   ]
  },
  {
   "cell_type": "code",
   "execution_count": 25,
   "metadata": {},
   "outputs": [
    {
     "name": "stdout",
     "output_type": "stream",
     "text": [
      "1.5000000000000099e-40\n",
      "2.0\n",
      "-1.0\n",
      "1.0\n"
     ]
    }
   ],
   "source": [
    "result=stats.linregress(num1,num2)\n",
    "\n",
    "print(result.pvalue)\n",
    "print(result.slope)\n",
    "print(result.intercept)\n",
    "print(result.rvalue*result.rvalue)"
   ]
  },
  {
   "cell_type": "code",
   "execution_count": 28,
   "metadata": {},
   "outputs": [
    {
     "name": "stdout",
     "output_type": "stream",
     "text": [
      "slope of num 1 and num 3 is 0.11428571428571424\n",
      "intercept of num 1 and num 3 is 2.9333333333333336\n",
      "r^2 of num 1 and num 3 is 0.005042016806722685\n",
      "p value of num 1 and num 3 is 0.8936682692731793\n"
     ]
    }
   ],
   "source": [
    "result=stats.linregress(num1,num3)\n",
    "\n",
    "print (\"slope of num 1 and num 3 is {}\".format(result.slope))\n",
    "print (\"intercept of num 1 and num 3 is {}\".format(result.intercept))\n",
    "print (\"r^2 of num 1 and num 3 is {}\".format(result.rvalue*result.rvalue))\n",
    "print (\"p value of num 1 and num 3 is {}\".format(result.pvalue))"
   ]
  },
  {
   "cell_type": "markdown",
   "metadata": {},
   "source": [
    "# sentiment analysis"
   ]
  },
  {
   "cell_type": "code",
   "execution_count": 30,
   "metadata": {},
   "outputs": [],
   "source": [
    "from textblob import TextBlob"
   ]
  },
  {
   "cell_type": "code",
   "execution_count": 41,
   "metadata": {},
   "outputs": [],
   "source": [
    "sentence1='I love cats'\n",
    "sentence2='I hate cats'\n",
    "sentence3='I eat cats'\n",
    "sentence4='Python is my most favorite class and I do not want to go home'\n",
    "sentence5='Karina is the worst when she does not come to class'"
   ]
  },
  {
   "cell_type": "code",
   "execution_count": 42,
   "metadata": {},
   "outputs": [
    {
     "name": "stdout",
     "output_type": "stream",
     "text": [
      "Sentiment(polarity=0.5, subjectivity=0.6)\n",
      "Sentiment(polarity=-0.8, subjectivity=0.9)\n",
      "Sentiment(polarity=0.0, subjectivity=0.0)\n",
      "Sentiment(polarity=0.5, subjectivity=0.75)\n",
      "Sentiment(polarity=-1.0, subjectivity=1.0)\n"
     ]
    }
   ],
   "source": [
    "result1=TextBlob(sentence1)\n",
    "print(result1.sentiment)\n",
    "\n",
    "result2=TextBlob(sentence2)\n",
    "print(result2.sentiment)\n",
    "\n",
    "result3=TextBlob(sentence3)\n",
    "print(result3.sentiment)\n",
    "\n",
    "result4=TextBlob(sentence4)\n",
    "print(result4.sentiment)\n",
    "\n",
    "result5=TextBlob(sentence5)\n",
    "print(result5.sentiment)"
   ]
  },
  {
   "cell_type": "code",
   "execution_count": null,
   "metadata": {},
   "outputs": [],
   "source": []
  }
 ],
 "metadata": {
  "kernelspec": {
   "display_name": "Python 3",
   "language": "python",
   "name": "python3"
  },
  "language_info": {
   "codemirror_mode": {
    "name": "ipython",
    "version": 3
   },
   "file_extension": ".py",
   "mimetype": "text/x-python",
   "name": "python",
   "nbconvert_exporter": "python",
   "pygments_lexer": "ipython3",
   "version": "3.6.5"
  }
 },
 "nbformat": 4,
 "nbformat_minor": 2
}
